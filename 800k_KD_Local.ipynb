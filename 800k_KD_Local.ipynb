{
 "cells": [
  {
   "cell_type": "markdown",
   "metadata": {
    "id": "VtKwjMgeU1nk"
   },
   "source": [
    "## Setup\n"
   ]
  },
  {
   "cell_type": "code",
   "execution_count": 1,
   "metadata": {},
   "outputs": [
    {
     "name": "stderr",
     "output_type": "stream",
     "text": [
      "d:\\IOT_project\\NeuralCompression\\neuralcompression\\__init__.py:21: UserWarning: Could not retrieve neuralcompression version!\n",
      "  warnings.warn(\"Could not retrieve neuralcompression version!\")\n"
     ]
    }
   ],
   "source": [
    "import torch\n",
    "import torch.optim as optim\n",
    "from tqdm import tqdm\n",
    "import matplotlib.pyplot as plt\n",
    "import NeuralCompression.neuralcompression.functional as ncF\n",
    "\n",
    "\n",
    "from lib.illm import get_teacher_decoder\n",
    "from lib.student_v1 import StudentEncoderBase_V2\n",
    "from lib.loss import get_loss_functions\n",
    "from lib.CLIC_dataset import build_trainloader\n",
    "from lib.logger import LossLogger\n",
    "from lib.train import train_epoch\n",
    "from lib.CLIC_dataset import build_activation_dataloader\n",
    "from lib.activation_generator import extract_teacher_features\n",
    "\n",
    "\n",
    "device = \"cuda\" if torch.cuda.is_available() else \"cpu\"\n"
   ]
  },
  {
   "cell_type": "code",
   "execution_count": null,
   "metadata": {
    "colab": {
     "base_uri": "https://localhost:8080/"
    },
    "id": "y5p39IDbMUt9",
    "outputId": "4808ea4e-6dc2-4b14-fc70-b261ad39a493"
   },
   "outputs": [],
   "source": [
    "# Initialize Models\n",
    "teacher = get_teacher_decoder(quality=3)\n",
    "student = StudentEncoderBase_V2()\n",
    "# student.load_state_dict(torch.load(\"/workspace/unmounted/models/model_35ep.pth\"))\n",
    "\n",
    "\n",
    "## HyperParams\n",
    "hyperparams = {\n",
    "    \"alpha_hint1\": 0.01,\n",
    "    \"alpha_hint2\": 0.035,\n",
    "    \"alpha_hint3\": 0.035,\n",
    "    \"alpha_hint4\": 0.035,\n",
    "    \"alpha_hint5\": 0.035,\n",
    "    \"beta_latent\": 0.7,\n",
    "    \"gamma_msssim\": 0.01,\n",
    "    \"gamma_perc\": 0.001,\n",
    "    \"learning_rate\": 0.0085\n",
    "}\n",
    "\n",
    "## Optimizer and Scheduler\n",
    "optimizer = optim.Adam(student.parameters(), lr=hyperparams[\"learning_rate\"])\n",
    "scheduler = torch.optim.lr_scheduler.CosineAnnealingLR(optimizer, T_max=30, eta_min=1e-6)\n",
    "\n",
    "\n",
    "## Logger and Directory to save images\n",
    "logger = LossLogger()"
   ]
  },
  {
   "cell_type": "markdown",
   "metadata": {
    "id": "fHOkY-3_M1dO"
   },
   "source": [
    "## Training"
   ]
  },
  {
   "cell_type": "code",
   "execution_count": 3,
   "metadata": {},
   "outputs": [
    {
     "name": "stderr",
     "output_type": "stream",
     "text": [
      "100%|██████████| 157/157 [06:07<00:00,  2.34s/it]\n"
     ]
    }
   ],
   "source": [
    "logits_dir = r\"C:\\Users\\IOT_project\\Desktop\\Quick_Access_CLIC\\ILLM_Q3_B32_torch\"\n",
    "\n",
    "extract_teacher_features(\n",
    "    batch_size=32,\n",
    "    quality=3,\n",
    "    output_dir=logits_dir\n",
    ")"
   ]
  },
  {
   "cell_type": "code",
   "execution_count": 5,
   "metadata": {},
   "outputs": [],
   "source": [
    "# Example training loop\n",
    "num_epochs = 200\n",
    "dataloader = build_activation_dataloader(dir=logits_dir, generate=False)"
   ]
  },
  {
   "cell_type": "code",
   "execution_count": null,
   "metadata": {},
   "outputs": [
    {
     "name": "stderr",
     "output_type": "stream",
     "text": [
      "Epoch 0: 100%|██████████| 157/157 [01:28<00:00,  1.78it/s]\n",
      "Clipping input data to the valid range for imshow with RGB data ([0..1] for floats or [0..255] for integers). Got range [-0.13511834..0.7928622].\n"
     ]
    },
    {
     "name": "stdout",
     "output_type": "stream",
     "text": [
      "Component-Wise Loss\n",
      "Hint 1:  4.326128501800975\n",
      "Hint 2:  2.142341914450287\n",
      "Hint 3:  2.5652066594476155\n",
      "Hint 4:  3.5316021150084818\n",
      "Hint 5:  7.325824903834397\n",
      "Latent Loss:  3.4805395781614217\n",
      "SSIM Loss:  10.263913601067415\n",
      "VGG Loss:  2666.8882792284535\n"
     ]
    },
    {
     "name": "stderr",
     "output_type": "stream",
     "text": [
      "Epoch 1: 100%|██████████| 157/157 [01:34<00:00,  1.66it/s]\n",
      "Clipping input data to the valid range for imshow with RGB data ([0..1] for floats or [0..255] for integers). Got range [-0.14958364..1.0555358].\n"
     ]
    },
    {
     "name": "stdout",
     "output_type": "stream",
     "text": [
      "Component-Wise Loss\n",
      "Hint 1:  4.074044897298145\n",
      "Hint 2:  1.9967529914181703\n",
      "Hint 3:  2.1586000858598453\n",
      "Hint 4:  2.93766942753154\n",
      "Hint 5:  5.429559793441919\n",
      "Latent Loss:  2.090475540631896\n",
      "SSIM Loss:  7.7651453078932064\n",
      "VGG Loss:  2387.5574939509106\n"
     ]
    },
    {
     "name": "stderr",
     "output_type": "stream",
     "text": [
      "Epoch 2: 100%|██████████| 157/157 [01:22<00:00,  1.90it/s]\n",
      "Clipping input data to the valid range for imshow with RGB data ([0..1] for floats or [0..255] for integers). Got range [-0.013217159..0.68524224].\n"
     ]
    },
    {
     "name": "stdout",
     "output_type": "stream",
     "text": [
      "Component-Wise Loss\n",
      "Hint 1:  3.8710930878949013\n",
      "Hint 2:  1.895699362845937\n",
      "Hint 3:  1.8907168875833986\n",
      "Hint 4:  2.645295735377415\n",
      "Hint 5:  4.685812087575341\n",
      "Latent Loss:  1.6606666648843487\n",
      "SSIM Loss:  6.135618067091437\n",
      "VGG Loss:  2128.852436430135\n"
     ]
    },
    {
     "name": "stderr",
     "output_type": "stream",
     "text": [
      "Epoch 3: 100%|██████████| 157/157 [01:19<00:00,  1.97it/s]\n",
      "Clipping input data to the valid range for imshow with RGB data ([0..1] for floats or [0..255] for integers). Got range [0.034390666..1.0439644].\n"
     ]
    },
    {
     "name": "stdout",
     "output_type": "stream",
     "text": [
      "Component-Wise Loss\n",
      "Hint 1:  3.7518154018244165\n",
      "Hint 2:  1.8722316216511332\n",
      "Hint 3:  1.790192828436566\n",
      "Hint 4:  2.5765479674005203\n",
      "Hint 5:  4.375722024850784\n",
      "Latent Loss:  1.3518628686856313\n",
      "SSIM Loss:  5.08157299430507\n",
      "VGG Loss:  1899.339336030802\n"
     ]
    },
    {
     "name": "stderr",
     "output_type": "stream",
     "text": [
      "Epoch 4: 100%|██████████| 157/157 [01:21<00:00,  1.92it/s]\n",
      "Clipping input data to the valid range for imshow with RGB data ([0..1] for floats or [0..255] for integers). Got range [-0.087634526..1.0902126].\n"
     ]
    },
    {
     "name": "stdout",
     "output_type": "stream",
     "text": [
      "Component-Wise Loss\n",
      "Hint 1:  3.6405344905367323\n",
      "Hint 2:  1.842165416593005\n",
      "Hint 3:  1.646805118223664\n",
      "Hint 4:  2.416073217513455\n",
      "Hint 5:  4.0532939202466585\n",
      "Latent Loss:  1.0704817787097518\n",
      "SSIM Loss:  4.384900068781178\n",
      "VGG Loss:  1697.4690221312699\n"
     ]
    },
    {
     "name": "stderr",
     "output_type": "stream",
     "text": [
      "Epoch 5: 100%|██████████| 157/157 [01:20<00:00,  1.94it/s]\n",
      "Clipping input data to the valid range for imshow with RGB data ([0..1] for floats or [0..255] for integers). Got range [-0.016386934..0.99101424].\n"
     ]
    },
    {
     "name": "stdout",
     "output_type": "stream",
     "text": [
      "Component-Wise Loss\n",
      "Hint 1:  3.5674692331605655\n",
      "Hint 2:  1.8228726605321193\n",
      "Hint 3:  1.5823857167344184\n",
      "Hint 4:  2.3302847427927005\n",
      "Hint 5:  3.7700119333662045\n",
      "Latent Loss:  0.9604956722183592\n",
      "SSIM Loss:  4.052030359863475\n",
      "VGG Loss:  1585.021964103553\n"
     ]
    },
    {
     "name": "stderr",
     "output_type": "stream",
     "text": [
      "Epoch 6: 100%|██████████| 157/157 [01:19<00:00,  1.97it/s]\n",
      "Clipping input data to the valid range for imshow with RGB data ([0..1] for floats or [0..255] for integers). Got range [-0.11448652..1.0893776].\n"
     ]
    },
    {
     "name": "stdout",
     "output_type": "stream",
     "text": [
      "Component-Wise Loss\n",
      "Hint 1:  3.510013366960416\n",
      "Hint 2:  1.7945427953437636\n",
      "Hint 3:  1.5482511387509146\n",
      "Hint 4:  2.2597914873414737\n",
      "Hint 5:  3.5483469143035307\n",
      "Latent Loss:  0.8443885663892053\n",
      "SSIM Loss:  3.799088927590923\n",
      "VGG Loss:  1486.3383493605693\n"
     ]
    },
    {
     "name": "stderr",
     "output_type": "stream",
     "text": [
      "Epoch 7: 100%|██████████| 157/157 [01:17<00:00,  2.04it/s]\n",
      "Clipping input data to the valid range for imshow with RGB data ([0..1] for floats or [0..255] for integers). Got range [-0.050597616..1.1086583].\n"
     ]
    },
    {
     "name": "stdout",
     "output_type": "stream",
     "text": [
      "Component-Wise Loss\n",
      "Hint 1:  3.4533381594973767\n",
      "Hint 2:  1.7577035134764993\n",
      "Hint 3:  1.504260913012134\n",
      "Hint 4:  2.177101954153389\n",
      "Hint 5:  3.351340670874164\n",
      "Latent Loss:  0.7676235991678421\n",
      "SSIM Loss:  3.6369282910778264\n",
      "VGG Loss:  1416.449191925632\n"
     ]
    },
    {
     "name": "stderr",
     "output_type": "stream",
     "text": [
      "Epoch 8: 100%|██████████| 157/157 [01:17<00:00,  2.01it/s]\n",
      "Clipping input data to the valid range for imshow with RGB data ([0..1] for floats or [0..255] for integers). Got range [-0.0673063..1.0579479].\n"
     ]
    },
    {
     "name": "stdout",
     "output_type": "stream",
     "text": [
      "Component-Wise Loss\n",
      "Hint 1:  3.4091963991997347\n",
      "Hint 2:  1.7241622036809374\n",
      "Hint 3:  1.4613481399359975\n",
      "Hint 4:  2.1019121609675655\n",
      "Hint 5:  3.2150345114386005\n",
      "Latent Loss:  0.6913899809691557\n",
      "SSIM Loss:  3.4046224515149546\n",
      "VGG Loss:  1326.4176849559615\n"
     ]
    },
    {
     "name": "stderr",
     "output_type": "stream",
     "text": [
      "Epoch 9: 100%|██████████| 157/157 [01:21<00:00,  1.93it/s]\n",
      "Clipping input data to the valid range for imshow with RGB data ([0..1] for floats or [0..255] for integers). Got range [-0.06221377..0.84609705].\n"
     ]
    },
    {
     "name": "stdout",
     "output_type": "stream",
     "text": [
      "Component-Wise Loss\n",
      "Hint 1:  3.36872857922961\n",
      "Hint 2:  1.7041416105571066\n",
      "Hint 3:  1.4313841215364493\n",
      "Hint 4:  2.068936211478179\n",
      "Hint 5:  3.1156378468130805\n",
      "Latent Loss:  0.6574027024826427\n",
      "SSIM Loss:  3.2388357204996097\n",
      "VGG Loss:  1251.2394059296626\n"
     ]
    },
    {
     "name": "stderr",
     "output_type": "stream",
     "text": [
      "Epoch 10: 100%|██████████| 157/157 [01:20<00:00,  1.95it/s]\n",
      "Clipping input data to the valid range for imshow with RGB data ([0..1] for floats or [0..255] for integers). Got range [0.008961737..1.1710408].\n"
     ]
    },
    {
     "name": "stdout",
     "output_type": "stream",
     "text": [
      "Component-Wise Loss\n",
      "Hint 1:  3.335603348009146\n",
      "Hint 2:  1.6751622886035094\n",
      "Hint 3:  1.3956674810048122\n",
      "Hint 4:  2.0080825424498054\n",
      "Hint 5:  3.015876837596772\n",
      "Latent Loss:  0.5941532494346048\n",
      "SSIM Loss:  3.091427632957507\n",
      "VGG Loss:  1190.4779490088201\n"
     ]
    },
    {
     "name": "stderr",
     "output_type": "stream",
     "text": [
      "Epoch 11: 100%|██████████| 157/157 [01:16<00:00,  2.04it/s]\n",
      "Clipping input data to the valid range for imshow with RGB data ([0..1] for floats or [0..255] for integers). Got range [-0.17673886..1.1457171].\n"
     ]
    },
    {
     "name": "stdout",
     "output_type": "stream",
     "text": [
      "Component-Wise Loss\n",
      "Hint 1:  3.307863556655349\n",
      "Hint 2:  1.6545206968951378\n",
      "Hint 3:  1.3777721757721748\n",
      "Hint 4:  1.9546050696995607\n",
      "Hint 5:  2.9329410571201593\n",
      "Latent Loss:  0.5648899292869932\n",
      "SSIM Loss:  2.997040201903908\n",
      "VGG Loss:  1143.757645139269\n"
     ]
    },
    {
     "name": "stderr",
     "output_type": "stream",
     "text": [
      "Epoch 12: 100%|██████████| 157/157 [01:18<00:00,  1.99it/s]\n",
      "Clipping input data to the valid range for imshow with RGB data ([0..1] for floats or [0..255] for integers). Got range [-0.107500546..1.0863568].\n"
     ]
    },
    {
     "name": "stdout",
     "output_type": "stream",
     "text": [
      "Component-Wise Loss\n",
      "Hint 1:  3.2811407682242666\n",
      "Hint 2:  1.6297695991719605\n",
      "Hint 3:  1.3469049805288862\n",
      "Hint 4:  1.8924958237037537\n",
      "Hint 5:  2.863532233390079\n",
      "Latent Loss:  0.5180561496953296\n",
      "SSIM Loss:  2.8848404610992238\n",
      "VGG Loss:  1094.5169677734375\n"
     ]
    },
    {
     "name": "stderr",
     "output_type": "stream",
     "text": [
      "Epoch 13: 100%|██████████| 157/157 [01:20<00:00,  1.95it/s]\n",
      "Clipping input data to the valid range for imshow with RGB data ([0..1] for floats or [0..255] for integers). Got range [-0.11447127..1.108344].\n"
     ]
    },
    {
     "name": "stdout",
     "output_type": "stream",
     "text": [
      "Component-Wise Loss\n",
      "Hint 1:  3.2614185331733365\n",
      "Hint 2:  1.6118292846497457\n",
      "Hint 3:  1.3311352570345447\n",
      "Hint 4:  1.839960374270275\n",
      "Hint 5:  2.7986268199932804\n",
      "Latent Loss:  0.4989002090730485\n",
      "SSIM Loss:  2.8138202011205586\n",
      "VGG Loss:  1057.7437394257563\n"
     ]
    },
    {
     "name": "stderr",
     "output_type": "stream",
     "text": [
      "Epoch 14: 100%|██████████| 157/157 [01:17<00:00,  2.03it/s]\n",
      "Clipping input data to the valid range for imshow with RGB data ([0..1] for floats or [0..255] for integers). Got range [-0.02685254..0.99647427].\n"
     ]
    },
    {
     "name": "stdout",
     "output_type": "stream",
     "text": [
      "Component-Wise Loss\n",
      "Hint 1:  3.2414861089864355\n",
      "Hint 2:  1.5925150227015186\n",
      "Hint 3:  1.3150939478236399\n",
      "Hint 4:  1.7939240404754688\n",
      "Hint 5:  2.745613475893713\n",
      "Latent Loss:  0.464833800959739\n",
      "SSIM Loss:  2.7388657551662177\n",
      "VGG Loss:  1023.7457570847432\n"
     ]
    },
    {
     "name": "stderr",
     "output_type": "stream",
     "text": [
      "Epoch 15: 100%|██████████| 157/157 [01:34<00:00,  1.66it/s]\n",
      "Clipping input data to the valid range for imshow with RGB data ([0..1] for floats or [0..255] for integers). Got range [-0.06471952..1.000499].\n"
     ]
    },
    {
     "name": "stdout",
     "output_type": "stream",
     "text": [
      "Component-Wise Loss\n",
      "Hint 1:  3.2237623223833216\n",
      "Hint 2:  1.570347463249401\n",
      "Hint 3:  1.2913140548262627\n",
      "Hint 4:  1.7580798406889484\n",
      "Hint 5:  2.6879417383746738\n",
      "Latent Loss:  0.4426118526014553\n",
      "SSIM Loss:  2.67679982883915\n",
      "VGG Loss:  994.8800017727408\n"
     ]
    },
    {
     "name": "stderr",
     "output_type": "stream",
     "text": [
      "Epoch 16: 100%|██████████| 157/157 [01:38<00:00,  1.59it/s]\n",
      "Clipping input data to the valid range for imshow with RGB data ([0..1] for floats or [0..255] for integers). Got range [-0.07616501..0.79625404].\n"
     ]
    },
    {
     "name": "stdout",
     "output_type": "stream",
     "text": [
      "Component-Wise Loss\n",
      "Hint 1:  3.208167413997043\n",
      "Hint 2:  1.5539326709546861\n",
      "Hint 3:  1.2714157039952125\n",
      "Hint 4:  1.721702942612824\n",
      "Hint 5:  2.6403202460070325\n",
      "Latent Loss:  0.4209517399976208\n",
      "SSIM Loss:  2.6164287700774564\n",
      "VGG Loss:  968.8707461994925\n"
     ]
    },
    {
     "name": "stderr",
     "output_type": "stream",
     "text": [
      "Epoch 17:   0%|          | 0/157 [00:00<?, ?it/s]"
     ]
    }
   ],
   "source": [
    "directory = r\"D:\\IOT_project\\runs\\test_run\"\n",
    "\n",
    "\n",
    "for epoch in range(num_epochs):\n",
    "    \n",
    "    train_loss = train_epoch(\n",
    "        student=student,\n",
    "        teacher_decoder=teacher,\n",
    "        dataloader=dataloader,\n",
    "        optimizer=optimizer,\n",
    "        hyperparams=hyperparams, \n",
    "        epoch=epoch,\n",
    "        save_dir=directory\n",
    "    )\n",
    "    \n",
    "    logger.log(train_loss)\n",
    "    scheduler.step()"
   ]
  },
  {
   "cell_type": "code",
   "execution_count": null,
   "metadata": {},
   "outputs": [],
   "source": [
    "logger.save(directory)\n",
    "logger.plot()\n",
    "torch.save(student.state_dict(), f\"{directory}/model_{num_epochs}ep.pth\")"
   ]
  }
 ],
 "metadata": {
  "accelerator": "TPU",
  "colab": {
   "gpuType": "V28",
   "provenance": []
  },
  "kernelspec": {
   "display_name": "kd",
   "language": "python",
   "name": "python3"
  },
  "language_info": {
   "codemirror_mode": {
    "name": "ipython",
    "version": 3
   },
   "file_extension": ".py",
   "mimetype": "text/x-python",
   "name": "python",
   "nbconvert_exporter": "python",
   "pygments_lexer": "ipython3",
   "version": "3.11.13"
  }
 },
 "nbformat": 4,
 "nbformat_minor": 4
}
